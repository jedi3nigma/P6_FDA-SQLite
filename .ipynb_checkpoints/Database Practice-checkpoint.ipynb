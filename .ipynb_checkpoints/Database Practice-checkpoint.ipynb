{
 "cells": [
  {
   "cell_type": "code",
   "execution_count": 1,
   "metadata": {},
   "outputs": [],
   "source": [
    "import os\n",
    "import pandas as pd\n",
    "import numpy as np\n",
    "# import sqlite3 as s3\n",
    "from SQLiteSetUp import (\n",
    "    SQLMain as sm,\n",
    "    CleanFuncs as cf)\n",
    "# from psycopg2 import sql as psql"
   ]
  },
  {
   "cell_type": "markdown",
   "metadata": {},
   "source": [
    "## Management Tool Selection\n",
    "* \"True\" for using PostgreSQL\n",
    "* \"False\" for using SQLite"
   ]
  },
  {
   "cell_type": "code",
   "execution_count": 2,
   "metadata": {},
   "outputs": [],
   "source": [
    "enable_postgres = False"
   ]
  },
  {
   "cell_type": "markdown",
   "metadata": {},
   "source": [
    "## EXTRACT"
   ]
  },
  {
   "cell_type": "code",
   "execution_count": 3,
   "metadata": {},
   "outputs": [],
   "source": [
    "# dict of required table changes\n",
    "def TransformProcess(tab_name, df, enable_postgres):\n",
    "    tmp = df.copy(deep=True)\n",
    "    tmp = cf.BasicClean(tmp)\n",
    "    \n",
    "    if tab_name == 'ApplicationDocs':\n",
    "        tmp = tmp.drop('ApplicationDocsURL', axis=1)\n",
    "        tmp = cf.ConvDateFormat(tmp, ['ApplicationDocsDate'])\n",
    "        \n",
    "        if not enable_postgres:\n",
    "            tmp = tmp.astype({'ApplicationDocsDate': 'str'})\n",
    "\n",
    "    elif tab_name == 'Products':\n",
    "        tmp['Method'] = tmp['Form'].apply(lambda x: cf.GetSplitFromCol(x, ';', 1, np.nan))\n",
    "        tmp['Form'] = tmp['Form'].apply(lambda x: cf.GetSplitFromCol(x, ';', 0, np.nan))\n",
    "        tmp = cf.RearrangeCol(tmp, 'Method', 'Form')\n",
    "        \n",
    "    elif tab_name == 'SubmissionPropertyType':\n",
    "        tmp = tmp.replace('Null', np.nan)\n",
    "        \n",
    "    elif tab_name == 'Submissions':\n",
    "        tmp = cf.ConvDateFormat(tmp, ['SubmissionStatusDate'])\n",
    "\n",
    "        if not enable_postgres:\n",
    "            tmp = tmp.astype({'SubmissionStatusDate': 'str'})\n",
    "    \n",
    "    print(f'Data cleansed for {tab_name}.')\n",
    "    return tmp"
   ]
  },
  {
   "cell_type": "code",
   "execution_count": 4,
   "metadata": {},
   "outputs": [
    {
     "name": "stdout",
     "output_type": "stream",
     "text": [
      "Importing: C:\\Users\\admin\\Coding Files\\Python Scripts\\Script 6\\drugsatfda20201117\\ActionTypes_Lookup.txt\n",
      "Importing: C:\\Users\\admin\\Coding Files\\Python Scripts\\Script 6\\drugsatfda20201117\\ApplicationDocs.txt\n",
      "Importing: C:\\Users\\admin\\Coding Files\\Python Scripts\\Script 6\\drugsatfda20201117\\Applications.txt\n",
      "Importing: C:\\Users\\admin\\Coding Files\\Python Scripts\\Script 6\\drugsatfda20201117\\ApplicationsDocsType_Lookup.txt\n",
      "Importing: C:\\Users\\admin\\Coding Files\\Python Scripts\\Script 6\\drugsatfda20201117\\MarketingStatus.txt\n",
      "Importing: C:\\Users\\admin\\Coding Files\\Python Scripts\\Script 6\\drugsatfda20201117\\MarketingStatus_Lookup.txt\n",
      "Importing: C:\\Users\\admin\\Coding Files\\Python Scripts\\Script 6\\drugsatfda20201117\\Products.txt\n",
      "Importing: C:\\Users\\admin\\Coding Files\\Python Scripts\\Script 6\\drugsatfda20201117\\SubmissionClass_Lookup.txt"
     ]
    },
    {
     "name": "stderr",
     "output_type": "stream",
     "text": [
      "b'Skipping line 35082: expected 8 fields, saw 9\\nSkipping line 35083: expected 8 fields, saw 9\\nSkipping line 35084: expected 8 fields, saw 9\\n'\n"
     ]
    },
    {
     "name": "stdout",
     "output_type": "stream",
     "text": [
      "\n",
      "Importing: C:\\Users\\admin\\Coding Files\\Python Scripts\\Script 6\\drugsatfda20201117\\SubmissionPropertyType.txt\n",
      "Importing: C:\\Users\\admin\\Coding Files\\Python Scripts\\Script 6\\drugsatfda20201117\\Submissions.txt\n",
      "Importing: C:\\Users\\admin\\Coding Files\\Python Scripts\\Script 6\\drugsatfda20201117\\TE.txt\n",
      "\n",
      "Import completed.\n"
     ]
    }
   ],
   "source": [
    "raw_dict = dict()\n",
    "for dirs, _, files in os.walk(os.getcwd()):\n",
    "    if 'drugs' in dirs:\n",
    "        for f in files:\n",
    "            df_name = f.split('.')[0]\n",
    "            print(f'Importing: {os.path.join(dirs, f)}')\n",
    "            raw_dict[df_name] = pd.read_csv(os.path.join(dirs, f), delimiter='\\t', encoding= 'unicode_escape', error_bad_lines=False)\n",
    "            \n",
    "print('\\nImport completed.')"
   ]
  },
  {
   "cell_type": "markdown",
   "metadata": {},
   "source": [
    "## TRANSFORM"
   ]
  },
  {
   "cell_type": "code",
   "execution_count": 5,
   "metadata": {},
   "outputs": [
    {
     "name": "stdout",
     "output_type": "stream",
     "text": [
      "Data cleansed for ActionTypes_Lookup.\n",
      "Data cleansed for ApplicationDocs.\n",
      "Data cleansed for Applications.\n",
      "Data cleansed for ApplicationsDocsType_Lookup.\n",
      "Data cleansed for MarketingStatus.\n",
      "Data cleansed for MarketingStatus_Lookup.\n",
      "Data cleansed for Products.\n",
      "Data cleansed for SubmissionClass_Lookup.\n",
      "Data cleansed for SubmissionPropertyType.\n",
      "Data cleansed for Submissions.\n",
      "Data cleansed for TE.\n",
      "\n",
      "Data tables have been cleansed.\n"
     ]
    }
   ],
   "source": [
    "clean_dict = dict()\n",
    "for k,v in raw_dict.items():\n",
    "    clean_dict[k] = TransformProcess(k, v, enable_postgres)\n",
    "    \n",
    "print('\\nData tables have been cleansed.')"
   ]
  },
  {
   "cell_type": "code",
   "execution_count": 6,
   "metadata": {},
   "outputs": [],
   "source": [
    "schema_dict = {\n",
    "    'ApplicationDocs': 'Application',\n",
    "    'Applications': 'Application',\n",
    "    'ApplicationsDocsType_Lookup': 'Application',\n",
    "    'MarketingStatus': 'Marketing',\n",
    "    'MarketingStatus_Lookup': 'Marketing',\n",
    "    'TE': 'Marketing',\n",
    "    'Products': 'Products',\n",
    "    'Submissions': 'Submissions',\n",
    "    'SubmissionPropertyType': 'Submissions',\n",
    "    'SubmissionClass_Lookup': 'Submissions',\n",
    "    'ActionTypes_Lookup': 'ActionTypes'\n",
    "}\n",
    "\n",
    "prim_key_dict = {\n",
    "    'ApplicationDocs': 'ApplicationDocsID',\n",
    "    'Applications': 'ApplNo',\n",
    "    'ApplicationsDocsType_Lookup': 'ApplicationDocsType_Lookup_ID',\n",
    "    'MarketingStatus': '',\n",
    "    'MarketingStatus_Lookup': 'MarketingStatusID',\n",
    "    'TE': '',\n",
    "    'Products': '',\n",
    "    'Submissions': '',\n",
    "    'SubmissionPropertyType': '',\n",
    "    'SubmissionClass_Lookup': 'SubmissionClassCodeID',\n",
    "    'ActionTypes_Lookup': 'ActionTypes_LookupID'\n",
    "}\n",
    "\n",
    "for_key_dict = {\n",
    "    'ApplicationDocs': {\n",
    "        'ApplNo': ('Applications', 'ApplNo'),\n",
    "        'ApplicationDocsTypeID': ('ApplicationsDocsType_Lookup', 'ApplicationDocsType_Lookup_ID')\n",
    "    },\n",
    "    'MarketingStatus': {\n",
    "        'ApplNo': ('Applications', 'ApplNo'),\n",
    "        'MarketingStatusID': ('MarketingStatus_Lookup', 'MarketingStatusID')\n",
    "    },\n",
    "    'TE': {\n",
    "        'ApplNo': ('Applications', 'ApplNo'),\n",
    "        'MarketingStatusID': ('MarketingStatus_Lookup', 'MarketingStatusID')\n",
    "    },\n",
    "    'Products': {\n",
    "        'ApplNo': ('Applications', 'ApplNo'),\n",
    "        'ProductNo': ('TE', 'ProductNo')\n",
    "    },\n",
    "    'Submissions': {\n",
    "        'ApplNo': ('Applications', 'ApplNo'),\n",
    "        'SubmissionClassCodeID': ('SubmissionClass_Lookup', 'SubmissionClassCodeID'),\n",
    "        'SubmissionPropertyType': ('SubmissionPropertyType', 'SubmissionNo')\n",
    "    },\n",
    "    'SubmissionPropertyType': {\n",
    "        'ApplNo': ('Applications', 'ApplNo')\n",
    "    }\n",
    "}"
   ]
  },
  {
   "cell_type": "markdown",
   "metadata": {},
   "source": [
    "---\n",
    "# <b><font color='red'>POSTGRESQL</font></b>\n",
    "---"
   ]
  },
  {
   "cell_type": "markdown",
   "metadata": {},
   "source": [
    "## LOAD"
   ]
  },
  {
   "cell_type": "code",
   "execution_count": 7,
   "metadata": {},
   "outputs": [],
   "source": [
    "if enable_postgres:\n",
    "    tab2 = sm.PostgresDB(host= \"localhost\",\n",
    "                         database=\"DrugsFDA\",\n",
    "                         user=\"postgres\",\n",
    "                         password=\"root\",\n",
    "                         port=\"5432\")\n",
    "\n",
    "    tab2.ConnectPGSQL()"
   ]
  },
  {
   "cell_type": "code",
   "execution_count": 8,
   "metadata": {},
   "outputs": [
    {
     "name": "stdout",
     "output_type": "stream",
     "text": [
      "Wall time: 0 ns\n"
     ]
    }
   ],
   "source": [
    "%%time\n",
    "\n",
    "if enable_postgres:\n",
    "    for tab_name, df in clean_dict.items():\n",
    "        print(f'Processing upload for {tab_name}...\\n')\n",
    "\n",
    "        tab2.SetSchema(schema_dict.get(tab_name, 'Misc'))     \n",
    "        tab2.CreateTable(df, tab_name, attr1='prim null', prim_key=prim_key_dict.get(tab_name, ''))\n",
    "        tab2.BulkInsertRecords(df, tab_name)\n",
    "\n",
    "        print(f'\\nProcessing completed for {tab_name}')\n",
    "        print('----------------------------------')"
   ]
  },
  {
   "cell_type": "code",
   "execution_count": 9,
   "metadata": {},
   "outputs": [],
   "source": [
    "if enable_postgres:\n",
    "    tab2.CloseCursor()\n",
    "    tab2.CloseConnect()"
   ]
  },
  {
   "cell_type": "markdown",
   "metadata": {},
   "source": [
    "---\n",
    "# <b><font color='red'>SQLITE</font></b>\n",
    "---"
   ]
  },
  {
   "cell_type": "markdown",
   "metadata": {},
   "source": [
    "## LOAD"
   ]
  },
  {
   "cell_type": "code",
   "execution_count": 10,
   "metadata": {},
   "outputs": [],
   "source": [
    "# for k,v in raw_dict.items():\n",
    "#     print(f'Dataframe: {k}\\n')\n",
    "#     print(v.head())\n",
    "#     print('\\n----------------\\n')"
   ]
  },
  {
   "cell_type": "code",
   "execution_count": 11,
   "metadata": {},
   "outputs": [],
   "source": [
    "# # convert Date to format 'yyyy/mm/dd' (? and split to individ col of yyyy, mm, dd)\n",
    "# # prim key = ApplicationDocsID\n",
    "# a = raw_dict['ApplicationDocs']\n",
    "# print('# samples: {}\\n# unique: \\n{}'.format(a.shape[0], a.nunique()))"
   ]
  },
  {
   "cell_type": "code",
   "execution_count": 12,
   "metadata": {},
   "outputs": [],
   "source": [
    "# # # prim & Foreign key = ApplNo\n",
    "# a = raw_dict['Applications']\n",
    "# print('# samples: {}\\n# unique: \\n{}'.format(a.shape[0], a.nunique()))"
   ]
  },
  {
   "cell_type": "code",
   "execution_count": 13,
   "metadata": {},
   "outputs": [],
   "source": [
    "# # prim & foreign key = ApplicationDocsType_Lookup_ID\n",
    "# a = raw_dict['ApplicationsDocsType_Lookup']\n",
    "# print('# samples: {}\\n# unique: \\n{}'.format(a.shape[0], a.nunique()))"
   ]
  },
  {
   "cell_type": "code",
   "execution_count": 14,
   "metadata": {},
   "outputs": [],
   "source": [
    "# # prim key = ApplNo\n",
    "# # foreign key = MarketingStatusID\n",
    "# a = raw_dict['MarketingStatus']\n",
    "# print('# samples: {}\\n# unique: \\n{}'.format(a.shape[0], a.nunique()))"
   ]
  },
  {
   "cell_type": "code",
   "execution_count": 15,
   "metadata": {},
   "outputs": [],
   "source": [
    "# # prim & foreign key = MarketingStatusID\n",
    "# a = raw_dict['MarketingStatus_Lookup']\n",
    "# print('# samples: {}\\n# unique: \\n{}'.format(a.shape[0], a.nunique()))"
   ]
  },
  {
   "cell_type": "code",
   "execution_count": 16,
   "metadata": {},
   "outputs": [],
   "source": [
    "# # for ';' in Form, split and create new columns (form, method)\n",
    "# # prim key = ApplNo\n",
    "# a = raw_dict['Products']\n",
    "# # a['Method'] = a['Form'].apply(lambda x: cf.GetSplitFromCol(x, ';', 1, np.nan))\n",
    "# # a['Form'] = a['Form'].apply(lambda x: cf.GetSplitFromCol(x, ';', 0, np.nan))\n",
    "# # a = cf.RearrangeCol(a, 'Method', 'Form')\n",
    "# # a.head()\n",
    "# print('# samples: {}\\n# unique: \\n{}'.format(a.shape[0], a.nunique()))"
   ]
  },
  {
   "cell_type": "code",
   "execution_count": 17,
   "metadata": {},
   "outputs": [],
   "source": [
    "# # prim key = SubmissionClassCodeID\n",
    "# a = raw_dict['SubmissionClass_Lookup']\n",
    "# print('# samples: {}\\n# unique: \\n{}'.format(a.shape[0], a.nunique()))"
   ]
  },
  {
   "cell_type": "code",
   "execution_count": 18,
   "metadata": {},
   "outputs": [],
   "source": [
    "# # clean \"null\" (this is not NaN but string called \"Null\")\n",
    "# # prim key = ApplNo\n",
    "# # foreign key = SubmissionNo\n",
    "# a = raw_dict['SubmissionPropertyType']\n",
    "# a.replace('Null', np.nan).head()\n",
    "# # print('# samples: {}\\n# unique: \\n{}'.format(a.shape[0], a.nunique()))"
   ]
  },
  {
   "cell_type": "code",
   "execution_count": 19,
   "metadata": {},
   "outputs": [],
   "source": [
    "# # convert Date to format 'yyyy/mm/dd' (? and split to individ col of yyyy, mm, dd)\n",
    "# # prim key = ApplNo\n",
    "# # foreign key = SubmissionClassCodeID, SubmissionNo\n",
    "# # raw_dict['Submissions']['SubmissionStatusDate'] = raw_dict['Submissions']['SubmissionStatusDate'].apply(lambda x: pd.to_datetime(x, format='%Y/%m/%d'))\n",
    "# a = raw_dict['Submissions']\n",
    "# # a.head()\n",
    "# print('# samples: {}\\n# unique: \\n{}'.format(a.shape[0], a.nunique()))"
   ]
  },
  {
   "cell_type": "code",
   "execution_count": 20,
   "metadata": {},
   "outputs": [],
   "source": [
    "# # prim key - ApplNo\n",
    "# # foreign key = MarketingStatusID\n",
    "# a = raw_dict['TE'].head()\n",
    "# print('# samples: {}\\n# unique: \\n{}'.format(a.shape[0], a.nunique()))"
   ]
  },
  {
   "cell_type": "code",
   "execution_count": 21,
   "metadata": {},
   "outputs": [],
   "source": [
    "# col_data_dict = set_sql_datatype(raw_dict['Applications'])\n",
    "# attr_dict = get_sql_col_attr('prim null', raw_dict['Applications'], 'ApplNo')"
   ]
  },
  {
   "cell_type": "code",
   "execution_count": 22,
   "metadata": {},
   "outputs": [
    {
     "name": "stdout",
     "output_type": "stream",
     "text": [
      "Database is set up for: tab1.db\n"
     ]
    }
   ],
   "source": [
    "if not enable_postgres:\n",
    "    tab1 = sm.SQLiteDB('tab1.db')\n",
    "    tab1.DBConnect()"
   ]
  },
  {
   "cell_type": "code",
   "execution_count": 23,
   "metadata": {},
   "outputs": [
    {
     "name": "stdout",
     "output_type": "stream",
     "text": [
      "Processing upload for ActionTypes_Lookup...\n",
      "\n",
      "CREATE TABLE IF NOT EXISTS ActionTypes_Lookup (\n",
      "ActionTypes_LookupID INTEGER PRIMARY KEY,\n",
      "ActionTypes_LookupDescription TEXT NOT NULL,\n",
      "SupplCategoryLevel1Code TEXT NOT NULL,\n",
      "SupplCategoryLevel2Code TEXT NOT NULL\n",
      ");\n",
      "Table made for: ActionTypes_Lookup\n",
      "Done data insert into ActionTypes_Lookup\n",
      "\n",
      "Processing completed for ActionTypes_Lookup\n",
      "----------------------------------\n",
      "Processing upload for ApplicationDocs...\n",
      "\n",
      "ApplNo\n",
      "('Applications', 'ApplNo')\n",
      "ApplicationDocsTypeID\n",
      "('ApplicationsDocsType_Lookup', 'ApplicationDocsType_Lookup_ID')\n",
      "CREATE TABLE IF NOT EXISTS ApplicationDocs (\n",
      "ApplicationDocsID INTEGER PRIMARY KEY,\n",
      "ApplicationDocsTypeID INTEGER NOT NULL,\n",
      "ApplNo INTEGER NOT NULL,\n",
      "SubmissionType TEXT NOT NULL,\n",
      "SubmissionNo INTEGER NOT NULL,\n",
      "ApplicationDocsTitle TEXT NOT NULL,\n",
      "ApplicationDocsDate TEXT NOT NULL,\n",
      "FOREIGN KEY (ApplicationDocsTypeID) REFERENCES ApplicationsDocsType_Lookup (ApplicationDocsType_Lookup_ID)\n",
      ");\n",
      "Table made for: ApplicationDocs\n",
      "Done data insert into ApplicationDocs\n",
      "\n",
      "Processing completed for ApplicationDocs\n",
      "----------------------------------\n",
      "Processing upload for Applications...\n",
      "\n",
      "CREATE TABLE IF NOT EXISTS Applications (\n",
      "ApplNo INTEGER PRIMARY KEY,\n",
      "ApplType TEXT NOT NULL,\n",
      "ApplPublicNotes TEXT NOT NULL,\n",
      "SponsorName TEXT NOT NULL\n",
      ");\n",
      "Table made for: Applications\n",
      "Done data insert into Applications\n",
      "\n",
      "Processing completed for Applications\n",
      "----------------------------------\n",
      "Processing upload for ApplicationsDocsType_Lookup...\n",
      "\n",
      "CREATE TABLE IF NOT EXISTS ApplicationsDocsType_Lookup (\n",
      "ApplicationDocsType_Lookup_ID INTEGER PRIMARY KEY,\n",
      "ApplicationDocsType_Lookup_Description TEXT NOT NULL\n",
      ");\n",
      "Table made for: ApplicationsDocsType_Lookup\n",
      "Done data insert into ApplicationsDocsType_Lookup\n",
      "\n",
      "Processing completed for ApplicationsDocsType_Lookup\n",
      "----------------------------------\n",
      "Processing upload for MarketingStatus...\n",
      "\n",
      "ApplNo\n",
      "('Applications', 'ApplNo')\n",
      "MarketingStatusID\n",
      "('MarketingStatus_Lookup', 'MarketingStatusID')\n",
      "CREATE TABLE IF NOT EXISTS MarketingStatus (\n",
      "MarketingStatusID INTEGER NOT NULL,\n",
      "ApplNo INTEGER NOT NULL,\n",
      "ProductNo INTEGER NOT NULL,\n",
      "FOREIGN KEY (MarketingStatusID) REFERENCES MarketingStatus_Lookup (MarketingStatusID)\n",
      ");\n",
      "Table made for: MarketingStatus\n",
      "Done data insert into MarketingStatus\n",
      "\n",
      "Processing completed for MarketingStatus\n",
      "----------------------------------\n",
      "Processing upload for MarketingStatus_Lookup...\n",
      "\n",
      "CREATE TABLE IF NOT EXISTS MarketingStatus_Lookup (\n",
      "MarketingStatusID INTEGER PRIMARY KEY,\n",
      "MarketingStatusDescription TEXT NOT NULL\n",
      ");\n",
      "Table made for: MarketingStatus_Lookup\n",
      "Done data insert into MarketingStatus_Lookup\n",
      "\n",
      "Processing completed for MarketingStatus_Lookup\n",
      "----------------------------------\n",
      "Processing upload for Products...\n",
      "\n",
      "ApplNo\n",
      "('Applications', 'ApplNo')\n",
      "ProductNo\n",
      "('TE', 'ProductNo')\n",
      "CREATE TABLE IF NOT EXISTS Products (\n",
      "ApplNo INTEGER NOT NULL,\n",
      "ProductNo INTEGER NOT NULL,\n",
      "Method TEXT ,\n",
      "Form TEXT ,\n",
      "Strength TEXT NOT NULL,\n",
      "ReferenceDrug INTEGER NOT NULL,\n",
      "DrugName TEXT NOT NULL,\n",
      "ActiveIngredient TEXT NOT NULL,\n",
      "ReferenceStandard TEXT NOT NULL,\n",
      "FOREIGN KEY (ProductNo) REFERENCES TE (ProductNo)\n",
      ");\n",
      "Table made for: Products\n",
      "Done data insert into Products\n",
      "\n",
      "Processing completed for Products\n",
      "----------------------------------\n",
      "Processing upload for SubmissionClass_Lookup...\n",
      "\n",
      "CREATE TABLE IF NOT EXISTS SubmissionClass_Lookup (\n",
      "SubmissionClassCodeID INTEGER PRIMARY KEY,\n",
      "SubmissionClassCode TEXT NOT NULL,\n",
      "SubmissionClassCodeDescription TEXT NOT NULL\n",
      ");\n",
      "Table made for: SubmissionClass_Lookup\n",
      "Done data insert into SubmissionClass_Lookup\n",
      "\n",
      "Processing completed for SubmissionClass_Lookup\n",
      "----------------------------------\n",
      "Processing upload for SubmissionPropertyType...\n",
      "\n",
      "ApplNo\n",
      "('Applications', 'ApplNo')\n",
      "CREATE TABLE IF NOT EXISTS SubmissionPropertyType (\n",
      "ApplNo INTEGER NOT NULL,\n",
      "SubmissionType TEXT NOT NULL,\n",
      "SubmissionNo INTEGER NOT NULL,\n",
      "SubmissionPropertyTypeCode TEXT NOT NULL,\n",
      "SubmissionPropertyTypeID INTEGER NOT NULL,\n",
      "FOREIGN KEY (ApplNo) REFERENCES Applications (ApplNo)\n",
      ");\n",
      "Table made for: SubmissionPropertyType\n",
      "Done data insert into SubmissionPropertyType\n",
      "\n",
      "Processing completed for SubmissionPropertyType\n",
      "----------------------------------\n",
      "Processing upload for Submissions...\n",
      "\n",
      "ApplNo\n",
      "('Applications', 'ApplNo')\n",
      "SubmissionClassCodeID\n",
      "('SubmissionClass_Lookup', 'SubmissionClassCodeID')\n",
      "SubmissionPropertyType\n",
      "('SubmissionPropertyType', 'SubmissionNo')\n",
      "CREATE TABLE IF NOT EXISTS Submissions (\n",
      "ApplNo INTEGER NOT NULL,\n",
      "SubmissionClassCodeID TEXT NOT NULL,\n",
      "SubmissionType TEXT NOT NULL,\n",
      "SubmissionNo INTEGER NOT NULL,\n",
      "SubmissionStatus TEXT NOT NULL,\n",
      "SubmissionStatusDate TEXT NOT NULL,\n",
      "SubmissionsPublicNotes TEXT NOT NULL,\n",
      "ReviewPriority TEXT NOT NULL\n",
      ");\n",
      "Table made for: Submissions\n",
      "Done data insert into Submissions\n",
      "\n",
      "Processing completed for Submissions\n",
      "----------------------------------\n",
      "Processing upload for TE...\n",
      "\n",
      "ApplNo\n",
      "('Applications', 'ApplNo')\n",
      "MarketingStatusID\n",
      "('MarketingStatus_Lookup', 'MarketingStatusID')\n",
      "CREATE TABLE IF NOT EXISTS TE (\n",
      "ApplNo INTEGER NOT NULL,\n",
      "ProductNo INTEGER NOT NULL,\n",
      "MarketingStatusID INTEGER NOT NULL,\n",
      "TECode TEXT NOT NULL,\n",
      "FOREIGN KEY (MarketingStatusID) REFERENCES MarketingStatus_Lookup (MarketingStatusID)\n",
      ");\n",
      "Table made for: TE\n",
      "Done data insert into TE\n",
      "\n",
      "Processing completed for TE\n",
      "----------------------------------\n"
     ]
    }
   ],
   "source": [
    "if not enable_postgres:\n",
    "    for tab_name, df in clean_dict.items():\n",
    "        print(f'Processing upload for {tab_name}...\\n')\n",
    "        tab1.CreateTable(df, tab_name, attr1='prim null', prim_key=prim_key_dict.get(tab_name, ''), attr2='foreign key', for_key=for_key_dict.get(tab_name, ''))\n",
    "        tab1.InsertData(df, tab_name)\n",
    "        print(f'\\nProcessing completed for {tab_name}')\n",
    "        print('----------------------------------')"
   ]
  },
  {
   "cell_type": "code",
   "execution_count": 27,
   "metadata": {},
   "outputs": [],
   "source": [
    "# tab1.cursor.execute(\"SELECT * FROM TE;\")\n",
    "# tables = tab1.cursor.fetchone()\n",
    "# names = [description[0] for description in tab1.cursor.description]"
   ]
  },
  {
   "cell_type": "code",
   "execution_count": 25,
   "metadata": {},
   "outputs": [
    {
     "name": "stdout",
     "output_type": "stream",
     "text": [
      "Database has been closed.\n"
     ]
    }
   ],
   "source": [
    "if not enable_postgres:\n",
    "    tab1.DBClose()"
   ]
  },
  {
   "cell_type": "code",
   "execution_count": 27,
   "metadata": {},
   "outputs": [],
   "source": [
    "# # set_tab_query = create_table('ApplicationDocs', col_data_dict, attr_dict)\n",
    "# # set_tab_query = create_table('Applications', col_data_dict, attr_dict)\n",
    "# # cursor.execute(set_tab_query)"
   ]
  },
  {
   "cell_type": "code",
   "execution_count": 28,
   "metadata": {},
   "outputs": [],
   "source": [
    "# from contextlib import closing\n",
    "# with closing(s3.connect('tab2.sqlite3')) as con, con, \\\n",
    "#     closing(con.cursor()) as cur:\n",
    "#     pass\n",
    "# # os.remove('tab2.sqlite3')"
   ]
  },
  {
   "cell_type": "code",
   "execution_count": 29,
   "metadata": {},
   "outputs": [],
   "source": [
    "# from sqlalchemy import create_engine\n",
    "# from sqlalchemy.pool import NullPool\n",
    "\n",
    "# to_engine = create_engine('sqlite://', poolclass=NullPool)\n",
    "# conn = to_engine.connect()\n",
    "# conn.close()\n",
    "# to_engine.dispose()"
   ]
  },
  {
   "cell_type": "code",
   "execution_count": 30,
   "metadata": {},
   "outputs": [],
   "source": [
    "# tab1.InsertData(clean_df, 'ApplicationDocs')"
   ]
  },
  {
   "cell_type": "code",
   "execution_count": 31,
   "metadata": {},
   "outputs": [],
   "source": [
    "# tab1_df = raw_dict['ApplicationDocs']\n",
    "# tab2_df = raw_dict['Applications']"
   ]
  },
  {
   "cell_type": "code",
   "execution_count": 32,
   "metadata": {},
   "outputs": [],
   "source": [
    "# tab1_df.to_sql('ApplicationDocs', conn, if_exists='append', index=False)"
   ]
  },
  {
   "cell_type": "code",
   "execution_count": 33,
   "metadata": {},
   "outputs": [],
   "source": [
    "# tab1.cursor.execute(\"SELECT name FROM sqlite_master WHERE type='table';\")\n",
    "# tables = tab1.cursor.fetchall()\n",
    "# # tables\n",
    "# table = pd.read_sql_query(\"SELECT * from %s WHERE ApplNo='4782'\" % tables[0], tab1.conn)"
   ]
  },
  {
   "cell_type": "code",
   "execution_count": 34,
   "metadata": {},
   "outputs": [],
   "source": [
    "# tab1.cursor.execute(\"SELECT * FROM ApplicationDocs WHERE ApplNo='4782';\")\n",
    "# q = tab1.cursor.fetchall()"
   ]
  },
  {
   "cell_type": "code",
   "execution_count": null,
   "metadata": {},
   "outputs": [],
   "source": []
  }
 ],
 "metadata": {
  "kernelspec": {
   "display_name": "Python 3",
   "language": "python",
   "name": "python3"
  },
  "language_info": {
   "codemirror_mode": {
    "name": "ipython",
    "version": 3
   },
   "file_extension": ".py",
   "mimetype": "text/x-python",
   "name": "python",
   "nbconvert_exporter": "python",
   "pygments_lexer": "ipython3",
   "version": "3.8.3"
  }
 },
 "nbformat": 4,
 "nbformat_minor": 4
}
